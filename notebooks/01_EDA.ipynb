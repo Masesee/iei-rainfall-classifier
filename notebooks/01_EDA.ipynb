{
  "cells": [
    {
      "cell_type": "markdown",
      "metadata": {},
      "source": [
        "# 01 - Exploratory Data Analysis (EDA)\n"
      ]
    },
    {
      "cell_type": "code",
      "execution_count": null,
      "metadata": {},
      "outputs": [],
      "source": [
        "import os\n",
        "import pandas as pd\n",
        "import seaborn as sns\n",
        "import matplotlib.pyplot as plt\n",
        "from pathlib import Path\n",
        "\n",
        "PROJECT_ROOT = Path('..')\n",
        "DATA_DIR = PROJECT_ROOT / 'data'\n",
        "TRAIN_PATH = DATA_DIR / 'train.csv'\n",
        "TEST_PATH = DATA_DIR / 'test.csv'\n",
        "\n",
        "train = pd.read_csv(TRAIN_PATH)\n",
        "test = pd.read_csv(TEST_PATH)\n",
        "train.head()\n"
      ]
    },
    {
      "cell_type": "code",
      "execution_count": null,
      "metadata": {},
      "outputs": [],
      "source": [
        "train.info()\n"
      ]
    },
    {
      "cell_type": "code",
      "execution_count": null,
      "metadata": {},
      "outputs": [],
      "source": [
        "train.isna().mean().sort_values(ascending=False).head(20)\n"
      ]
    },
    {
      "cell_type": "markdown",
      "metadata": {},
      "source": [
        "## Target Distribution\n"
      ]
    },
    {
      "cell_type": "code",
      "execution_count": null,
      "metadata": {},
      "outputs": [],
      "source": [
        "target_col = 'Target'\n",
        "ax = train[target_col].value_counts(normalize=True).mul(100).plot(kind='bar', figsize=(6,3), title='Target distribution (%)')\n",
        "plt.show()\n"
      ]
    },
    {
      "cell_type": "markdown",
      "metadata": {},
      "source": [
        "## Key Feature Distributions\n"
      ]
    },
    {
      "cell_type": "code",
      "execution_count": null,
      "metadata": {},
      "outputs": [],
      "source": [
        "for col in ['confidence', 'community', 'indicator']:\n",
        "    if col in train.columns:\n",
        "        plt.figure(figsize=(6,3))\n",
        "        if str(train[col].dtype) == 'object':\n",
        "            train[col].value_counts().head(20).plot(kind='bar', title=f'{col} (top 20)')\n",
        "        else:\n",
        "            sns.histplot(train[col].dropna(), kde=True)\n",
        "            plt.title(col)\n",
        "        plt.show()\n"
      ]
    },
    {
      "cell_type": "markdown",
      "metadata": {},
      "source": [
        "## Text Lengths and Common Words\n"
      ]
    },
    {
      "cell_type": "code",
      "execution_count": null,
      "metadata": {},
      "outputs": [],
      "source": [
        "text_col = 'indicator_description'\n",
        "if text_col in train.columns:\n",
        "    train['text_len'] = train[text_col].astype(str).str.split().map(lambda x: len(x))\n",
        "    sns.histplot(train['text_len'], bins=50)\n",
        "    plt.title('Text length (tokens)')\n",
        "    plt.show()\n",
        "    \n",
        "    from collections import Counter\n",
        "    cnt = Counter()\n",
        "    train[text_col].astype(str).str.lower().str.replace(r'[^a-z0-9 ]', ' ', regex=True).str.split().map(cnt.update)\n",
        "    pd.Series(cnt).sort_values(ascending=False).head(30)\n",
        "else:\n",
        "    print('No text column found for EDA')\n"
      ]
    },
    {
      "cell_type": "raw",
      "metadata": {
        "vscode": {
          "languageId": "raw"
        }
      },
      "source": [
        "\n"
      ]
    }
  ],
  "metadata": {
    "language_info": {
      "name": "python"
    }
  },
  "nbformat": 4,
  "nbformat_minor": 2
}
